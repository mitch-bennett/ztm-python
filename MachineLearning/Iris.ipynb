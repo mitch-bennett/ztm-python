{
 "cells": [
  {
   "cell_type": "code",
   "execution_count": 1,
   "metadata": {},
   "outputs": [],
   "source": [
    "from sklearn.datasets import load_iris\n",
    "iris = load_iris()"
   ]
  },
  {
   "attachments": {},
   "cell_type": "markdown",
   "metadata": {},
   "source": [
    "https://scikit-learn.org/stable/\n",
    "Use x and y -> x is usually inputs, y is the target\n",
    "want to make function such that f(x)=y\n",
    "for iris dataset, the x data is the image and y target is the type of flower that is output\n",
    "feature names are the column names, targte names are the 3 types of iris flowers"
   ]
  },
  {
   "cell_type": "code",
   "execution_count": 6,
   "metadata": {},
   "outputs": [],
   "source": [
    "X = iris.data\n",
    "y = iris.target\n",
    "\n",
    "feature_names = iris.feature_names\n",
    "target_names = iris.target_names\n"
   ]
  },
  {
   "attachments": {},
   "cell_type": "markdown",
   "metadata": {},
   "source": [
    "Split the data into train and test subsets. Want to have more training data for higher accuracy of the model.\n",
    "There is a tradeoff with how large the test size is, however. higher accuracy does not guarantee a good model."
   ]
  },
  {
   "cell_type": "code",
   "execution_count": 28,
   "metadata": {},
   "outputs": [
    {
     "name": "stdout",
     "output_type": "stream",
     "text": [
      "(90, 4)\n",
      "(60, 4)\n"
     ]
    }
   ],
   "source": [
    "from sklearn.model_selection import train_test_split\n",
    "X_train, X_test, y_train, y_test = train_test_split(X, y, test_size=0.4)\n",
    "\n",
    "print(X_train.shape)\n",
    "print(X_test.shape)"
   ]
  },
  {
   "attachments": {},
   "cell_type": "markdown",
   "metadata": {},
   "source": [
    "Use k-nearest neighbors classification supervised learning algorithm\n",
    "see more models here: https://scikit-learn.org/stable/modules/neighbors.html\n",
    "\n",
    "for more info on knn, see:\n",
    "http://vision.stanford.edu/teaching/cs231n-demos/knn/\n",
    "https://www.analyticsvidhya.com/blog/2018/08/k-nearest-neighbor-introduction-regression-python/\n",
    "\n",
    "The classifier value does not need to match the flowers, instead asks \"how many data points around me do I need to observe to decide which type of flower I am?\"\n",
    "Can optimize k based on the error calculation for train and test set (error vs k-value). test/validation error will typically result in an 'elbow curve'\n",
    "At low k, the model overfits the training data, while at high k the model performs poorly on both data sets"
   ]
  },
  {
   "attachments": {},
   "cell_type": "markdown",
   "metadata": {},
   "source": [
    "Fit the training data, and then compare the prediction against actual test variable using metrics"
   ]
  },
  {
   "cell_type": "code",
   "execution_count": 29,
   "metadata": {},
   "outputs": [],
   "source": [
    "from sklearn.neighbors import KNeighborsClassifier\n",
    "knn = KNeighborsClassifier(n_neighbors=3)\n",
    "knn.fit(X_train, y_train)\n",
    "y_pred = knn.predict(X_test)"
   ]
  },
  {
   "cell_type": "code",
   "execution_count": 30,
   "metadata": {},
   "outputs": [
    {
     "name": "stdout",
     "output_type": "stream",
     "text": [
      "0.9666666666666667\n"
     ]
    }
   ],
   "source": [
    "from sklearn import metrics\n",
    "print(metrics.accuracy_score(y_test, y_pred))"
   ]
  },
  {
   "attachments": {},
   "cell_type": "markdown",
   "metadata": {},
   "source": [
    "Run separate check to see influence of k choice"
   ]
  },
  {
   "cell_type": "code",
   "execution_count": 21,
   "metadata": {},
   "outputs": [
    {
     "name": "stdout",
     "output_type": "stream",
     "text": [
      "RMSE for k =  1 is: 0.22360679774997896\n",
      "RMSE for k =  2 is: 0.19364916731037085\n",
      "RMSE for k =  3 is: 0.18257418583505536\n",
      "RMSE for k =  4 is: 0.18819316317727025\n",
      "RMSE for k =  5 is: 0.1983263304085802\n",
      "RMSE for k =  6 is: 0.19364916731037085\n",
      "RMSE for k =  7 is: 0.19777675864090652\n",
      "RMSE for k =  8 is: 0.18610592861772746\n",
      "RMSE for k =  9 is: 0.18812481628444883\n",
      "RMSE for k =  10 is: 0.20207259421636906\n",
      "RMSE for k =  11 is: 0.20260017758117305\n",
      "RMSE for k =  12 is: 0.2110928354662592\n",
      "RMSE for k =  13 is: 0.21597903324348167\n",
      "RMSE for k =  14 is: 0.2207362448623206\n",
      "RMSE for k =  15 is: 0.2281974453714898\n",
      "RMSE for k =  16 is: 0.23537979062216308\n",
      "RMSE for k =  17 is: 0.23966527985251015\n",
      "RMSE for k =  18 is: 0.24647723790765014\n",
      "RMSE for k =  19 is: 0.24733109087494182\n",
      "RMSE for k =  20 is: 0.2411776661854631\n"
     ]
    },
    {
     "data": {
      "text/plain": [
       "<AxesSubplot: >"
      ]
     },
     "execution_count": 21,
     "metadata": {},
     "output_type": "execute_result"
    },
    {
     "data": {
      "image/png": "[encoded data removed]",
      "text/plain": [
       "<Figure size 640x480 with 1 Axes>"
      ]
     },
     "metadata": {},
     "output_type": "display_data"
    }
   ],
   "source": [
    "from sklearn.neighbors import KNeighborsRegressor\n",
    "from math import sqrt\n",
    "import matplotlib.pyplot as pyplot\n",
    "import pandas as pd\n",
    "%matplotlib inline\n",
    "\n",
    "rmse_val = []\n",
    "for k in range(20):\n",
    "    k = k+1\n",
    "    model = KNeighborsRegressor(n_neighbors=k)\n",
    "    model.fit(X_train, y_train)\n",
    "    pred=model.predict(X_test)\n",
    "    error = sqrt(metrics.mean_squared_error(y_test,pred))\n",
    "    rmse_val.append(error)\n",
    "    print('RMSE for k = ' , k , 'is:', error)\n",
    "\n",
    "curve = pd.DataFrame(rmse_val)\n",
    "curve.plot()"
   ]
  },
  {
   "attachments": {},
   "cell_type": "markdown",
   "metadata": {},
   "source": [
    "Final check is to use gridsearch to determine optimal k"
   ]
  },
  {
   "cell_type": "code",
   "execution_count": 24,
   "metadata": {},
   "outputs": [
    {
     "data": {
      "text/plain": [
       "{'n_neighbors': 5}"
      ]
     },
     "execution_count": 24,
     "metadata": {},
     "output_type": "execute_result"
    }
   ],
   "source": [
    "from sklearn.model_selection import GridSearchCV\n",
    "params = {'n_neighbors':[2,3,4,5,6,7,8,9]}\n",
    "\n",
    "# knn = KNeighborsRegressor()\n",
    "knn = KNeighborsClassifier()\n",
    "\n",
    "model = GridSearchCV(knn, params, cv=5)\n",
    "model.fit(X_train, y_train)\n",
    "model.best_params_"
   ]
  },
  {
   "attachments": {},
   "cell_type": "markdown",
   "metadata": {},
   "source": [
    "Repeat test and train but with Decision tree to check another model\n",
    "This will follow typical process with model improvement and checking"
   ]
  },
  {
   "cell_type": "code",
   "execution_count": 27,
   "metadata": {},
   "outputs": [
    {
     "name": "stdout",
     "output_type": "stream",
     "text": [
      "(75, 4)\n",
      "(75, 4)\n",
      "0.96\n"
     ]
    }
   ],
   "source": [
    "from sklearn.model_selection import train_test_split\n",
    "X_train, X_test, y_train, y_test = train_test_split(X, y, test_size=0.5)\n",
    "\n",
    "print(X_train.shape)\n",
    "print(X_test.shape)\n",
    "\n",
    "from sklearn.tree import DecisionTreeClassifier\n",
    "knn = DecisionTreeClassifier()\n",
    "\n",
    "knn.fit(X_train, y_train)\n",
    "y_pred = knn.predict(X_test)\n",
    "\n",
    "print(metrics.accuracy_score(y_test, y_pred))"
   ]
  },
  {
   "attachments": {},
   "cell_type": "markdown",
   "metadata": {},
   "source": [
    "Now, say a user adds a new photo and we want to predict what it is"
   ]
  },
  {
   "cell_type": "code",
   "execution_count": 31,
   "metadata": {},
   "outputs": [
    {
     "name": "stdout",
     "output_type": "stream",
     "text": [
      "predictions:  ['versicolor', 'virginica']\n"
     ]
    }
   ],
   "source": [
    "sample = [[3,5,4,2],[2,3,5,4]]\n",
    "predictions = knn.predict(sample)\n",
    "pred_species = [iris.target_names[p] for p in predictions]\n",
    "print(\"predictions: \", pred_species)"
   ]
  },
  {
   "attachments": {},
   "cell_type": "markdown",
   "metadata": {},
   "source": [
    "In real life, will have millions of rows which takes time to fit\n",
    "Utilize joblib for objects that carry large numpy arrays internally\n",
    "see: https://scikit-learn.org/stable/model_persistence.html\n",
    "\n",
    "this saves the model dumped to a file so that others can use it for new data"
   ]
  },
  {
   "cell_type": "code",
   "execution_count": 36,
   "metadata": {},
   "outputs": [
    {
     "name": "stdout",
     "output_type": "stream",
     "text": [
      "predictions:  ['versicolor', 'virginica']\n"
     ]
    }
   ],
   "source": [
    "from joblib import dump, load\n",
    "dump(knn, 'mlbrain.joblib')\n",
    "model = load('mlbrain.joblib')\n",
    "model.predict(X_test)\n",
    "sample = [[3,5,4,2],[2,3,5,4]]\n",
    "predictions = model.predict(sample)\n",
    "pred_species = [iris.target_names[p] for p in predictions]\n",
    "print(\"predictions: \", pred_species)"
   ]
  },
  {
   "cell_type": "code",
   "execution_count": null,
   "metadata": {},
   "outputs": [],
   "source": []
  }
 ],
 "metadata": {
  "kernelspec": {
   "display_name": "venv",
   "language": "python",
   "name": "python3"
  },
  "language_info": {
   "codemirror_mode": {
    "name": "ipython",
    "version": 3
   },
   "file_extension": ".py",
   "mimetype": "text/x-python",
   "name": "python",
   "nbconvert_exporter": "python",
   "pygments_lexer": "ipython3",
   "version": "3.10.8"
  },
  "orig_nbformat": 4,
  "vscode": {
   "interpreter": {
    "hash": "771dd0e54a76c0934f3f7c665dbf533d30c4085cb0be61b034568fcd85c1bb11"
   }
  }
 },
 "nbformat": 4,
 "nbformat_minor": 2
}
